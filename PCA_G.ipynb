{
  "cells": [
    {
      "cell_type": "code",
      "execution_count": null,
      "metadata": {
        "colab": {
          "base_uri": "https://localhost:8080/"
        },
        "id": "91_SAJ1zC0mQ",
        "outputId": "a62131e5-67bb-4db2-9250-c39b65536352"
      },
      "outputs": [
        {
          "name": "stdout",
          "output_type": "stream",
          "text": [
            "Fruit Dataset:\n",
            "    Weight  Sweetness  Color   Label\n",
            "0     150          7      1   Apple\n",
            "1     170          8      1   Apple\n",
            "2     180          6      1   Apple\n",
            "3     120          9      1   Apple\n",
            "4     200          5      1   Apple\n",
            "5     140          8      1   Apple\n",
            "6     160          7      1   Apple\n",
            "7     300          4      2  Banana\n",
            "8     320          3      2  Banana\n",
            "9     330          2      2  Banana \n",
            "\n",
            "Test Predictions: ['Apple' 'Banana' 'Apple']\n",
            "Test Actual Labels: ['Apple' 'Banana' 'Apple']\n",
            "Model Accuracy: 1.0 \n",
            "\n",
            "New fruit with features [180, 7, 1] is classified as: Apple\n"
          ]
        }
      ],
      "source": [
        "# Q1\n",
        "\n",
        "import numpy as np\n",
        "import pandas as pd\n",
        "from sklearn.ensemble import RandomForestClassifier\n",
        "from sklearn.model_selection import train_test_split\n",
        "from sklearn.metrics import accuracy_score\n",
        "\n",
        "# Step 1: Create dataset\n",
        "fruits = pd.DataFrame({\n",
        "    \"Weight\":    [150, 170, 180, 120, 200, 140, 160, 300, 320, 330],\n",
        "    \"Sweetness\": [7,   8,   6,   9,   5,   8,   7,   4,   3,   2],\n",
        "    \"Color\":     [1,   1,   1,   1,   1,   1,   1,   2,   2,   2],  # 1=Red, 2=Yellow\n",
        "    \"Label\":     [\"Apple\", \"Apple\", \"Apple\", \"Apple\", \"Apple\",\n",
        "                  \"Apple\", \"Apple\", \"Banana\", \"Banana\", \"Banana\"]\n",
        "})\n",
        "\n",
        "print(\"Fruit Dataset:\\n\", fruits, \"\\n\")\n",
        "\n",
        "# Step 2: Define features and target\n",
        "X = fruits[[\"Weight\", \"Sweetness\", \"Color\"]].values\n",
        "y = fruits[\"Label\"].values\n",
        "\n",
        "# Split dataset into training & test sets\n",
        "X_train, X_test, y_train, y_test = train_test_split(\n",
        "    X, y, test_size=0.3, random_state=0\n",
        ")\n",
        "\n",
        "# Step 3: Train Random Forest\n",
        "clf = RandomForestClassifier(n_estimators=5, criterion=\"gini\", random_state=0)\n",
        "clf.fit(X_train, y_train)\n",
        "\n",
        "# Step 4: Predictions & Accuracy\n",
        "y_pred = clf.predict(X_test)\n",
        "\n",
        "print(\"Test Predictions:\", y_pred)\n",
        "print(\"Test Actual Labels:\", y_test)\n",
        "print(\"Model Accuracy:\", round(accuracy_score(y_test, y_pred), 3), \"\\n\")\n",
        "\n",
        "# Step 5: Classify new fruit\n",
        "new_fruit = np.array([[180, 7, 1]])  # Example: Red fruit, weight=180, sweetness=7\n",
        "predicted_label = clf.predict(new_fruit)\n",
        "\n",
        "print(f\"New fruit with features {new_fruit.tolist()[0]} is classified as: {predicted_label[0]}\")\n"
      ]
    }
  ],
  "metadata": {
    "colab": {
      "provenance": []
    },
    "kernelspec": {
      "display_name": "Python 3",
      "name": "python3"
    },
    "language_info": {
      "name": "python"
    }
  },
  "nbformat": 4,
  "nbformat_minor": 0
}
